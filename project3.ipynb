{
  "nbformat": 4,
  "nbformat_minor": 0,
  "metadata": {
    "colab": {
      "provenance": []
    },
    "kernelspec": {
      "name": "python3",
      "display_name": "Python 3"
    },
    "language_info": {
      "name": "python"
    }
  },
  "cells": [
    {
      "cell_type": "markdown",
      "source": [
        "project 03\n"
      ],
      "metadata": {
        "id": "AcnXt-jjojKV"
      }
    },
    {
      "cell_type": "markdown",
      "source": [
        "***Guess the Number Game  (user)***"
      ],
      "metadata": {
        "id": "Ca5qo34QonTp"
      }
    },
    {
      "cell_type": "code",
      "execution_count": null,
      "metadata": {
        "id": "atftMEeSoCnI",
        "colab": {
          "base_uri": "https://localhost:8080/"
        },
        "outputId": "ab528a76-c96c-44c4-8f75-f36ef2e6dc4e"
      },
      "outputs": [
        {
          "output_type": "stream",
          "name": "stdout",
          "text": [
            "Think of a number between 1 and 10, and I'll try to guess it!\n",
            "After each guess, let me know if it's:\n",
            "- 'H' for Too High\n",
            "- 'L' for Too Low\n",
            "- 'C' for Correct\n",
            "My guess is: 5\n",
            "Is it H, L, or C? 5\n",
            "Invalid input. Please respond with 'H', 'L', or 'C'.\n",
            "My guess is: 5\n",
            "Is it H, L, or C? 6\n",
            "Invalid input. Please respond with 'H', 'L', or 'C'.\n",
            "My guess is: 5\n",
            "Is it H, L, or C? 4\n",
            "Invalid input. Please respond with 'H', 'L', or 'C'.\n",
            "My guess is: 5\n",
            "Is it H, L, or C? h\n",
            "My guess is: 2\n",
            "Is it H, L, or C? l\n",
            "My guess is: 3\n",
            "Is it H, L, or C? c\n",
            "Yay! I guessed your number 3 in 6 attempts!\n"
          ]
        }
      ],
      "source": [
        "def guess_the_number_user():\n",
        "    print(\"Think of a number between 1 and 10, and I'll try to guess it!\")\n",
        "    print(\"After each guess, let me know if it's:\")\n",
        "    print(\"- 'H' for Too High\")\n",
        "    print(\"- 'L' for Too Low\")\n",
        "    print(\"- 'C' for Correct\")\n",
        "\n",
        "    # Define the range\n",
        "    low = 1\n",
        "    high = 10\n",
        "    attempts = 0\n",
        "\n",
        "    while low <= high:\n",
        "        attempts += 1\n",
        "        guess = (low + high) // 2  # Computer guesses the middle of the range\n",
        "        print(f\"My guess is: {guess}\")\n",
        "\n",
        "        # Get user feedback\n",
        "        feedback = input(\"Is it H, L, or C? \").strip().upper()\n",
        "\n",
        "        if feedback == 'H':  # Guess is too high\n",
        "            high = guess - 1\n",
        "        elif feedback == 'L':  # Guess is too low\n",
        "            low = guess + 1\n",
        "        elif feedback == 'C':  # Guess is correct\n",
        "            print(f\"Yay! I guessed your number {guess} in {attempts} attempts!\")\n",
        "            break\n",
        "        else:\n",
        "            print(\"Invalid input. Please respond with 'H', 'L', or 'C'.\")\n",
        "\n",
        "    if low > high:\n",
        "        print(\"Hmm, something went wrong. Did you follow the rules? 😅\")\n",
        "\n",
        "# Run the game\n",
        "guess_the_number_user()\n"
      ]
    }
  ]
}