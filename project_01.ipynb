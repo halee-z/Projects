{
  "nbformat": 4,
  "nbformat_minor": 0,
  "metadata": {
    "colab": {
      "provenance": []
    },
    "kernelspec": {
      "name": "python3",
      "display_name": "Python 3"
    },
    "language_info": {
      "name": "python"
    }
  },
  "cells": [
    {
      "cell_type": "markdown",
      "source": [
        "## **Mad libs Python Project**"
      ],
      "metadata": {
        "id": "I4mO458JjlEI"
      }
    },
    {
      "cell_type": "code",
      "execution_count": null,
      "metadata": {
        "colab": {
          "base_uri": "https://localhost:8080/"
        },
        "id": "N2sdExFNjC_f",
        "outputId": "4ed8bc7a-b6b5-49bd-9701-9c7fb6801107"
      },
      "outputs": [
        {
          "output_type": "stream",
          "name": "stdout",
          "text": [
            "Enter a noun: car\n",
            "Enter a verb: drive\n",
            "Enter an adjective: fast\n",
            "Once upon a time, there was a(n) car who loved to drive. Every day, they would fast go on adventures.\n"
          ]
        }
      ],
      "source": [
        "# Simple Mad Libs Project in Python\n",
        "\n",
        "def mad_libs():\n",
        "    # Story template with placeholders\n",
        "    story = \"Once upon a time, there was a(n) {noun} who loved to {verb}. Every day, they would {adjective} go on adventures.\"\n",
        "\n",
        "    # Prompt user for input\n",
        "    noun = input(\"Enter a noun: \")\n",
        "    verb = input(\"Enter a verb: \")\n",
        "    adjective = input(\"Enter an adjective: \")\n",
        "\n",
        "    # Replace placeholders with user input\n",
        "    result = story.format(noun=noun, verb=verb, adjective=adjective)\n",
        "\n",
        "    # Print the final story\n",
        "    print(result)\n",
        "\n",
        "# Run the Mad Libs function\n",
        "mad_libs()\n"
      ]
    },
    {
      "cell_type": "markdown",
      "source": [
        "*one more depply *"
      ],
      "metadata": {
        "id": "82iI2wmGk_Dq"
      }
    },
    {
      "cell_type": "code",
      "source": [
        "# Advanced Mad Libs Project in Python\n",
        "\n",
        "def get_input(prompt):\n",
        "    \"\"\" Function to handle user input with error handling for invalid data \"\"\"\n",
        "    while True:\n",
        "        user_input = input(prompt)\n",
        "        if user_input.strip():\n",
        "            return user_input\n",
        "        else:\n",
        "            print(\"Please provide a valid input.\")\n",
        "\n",
        "def choose_story():\n",
        "    \"\"\" Function to let the user choose a story template \"\"\"\n",
        "    stories = {\n",
        "        1: \"Once upon a time, there was a(n) {noun} who loved to {verb}. Every day, they would {adjective} go on adventures.\",\n",
        "        2: \"In a faraway land, a {adjective} {noun} embarked on a {verb} journey full of {adjective} surprises.\",\n",
        "        3: \"The brave knight {verb} through the {adjective} forest to save the {noun} from the dragon.\"\n",
        "    }\n",
        "    print(\"Choose a story template:\")\n",
        "    for key, value in stories.items():\n",
        "        print(f\"{key}: {value}\")\n",
        "\n",
        "    while True:\n",
        "        try:\n",
        "            choice = int(input(\"Enter the number of your choice: \"))\n",
        "            if choice in stories:\n",
        "                return stories[choice]\n",
        "            else:\n",
        "                print(\"Invalid choice, please select a valid number.\")\n",
        "        except ValueError:\n",
        "            print(\"Invalid input, please enter a number.\")\n",
        "\n",
        "def mad_libs():\n",
        "    story_template = choose_story()\n",
        "    placeholders = ['noun', 'verb', 'adjective']\n",
        "\n",
        "    filled_story = story_template\n",
        "\n",
        "    # Collecting user inputs for placeholders\n",
        "    for word in placeholders:\n",
        "        filled_story = filled_story.replace(f'{{{word}}}', get_input(f\"Enter a {word}: \"))\n",
        "\n",
        "    print(\"\\nHere’s your completed Mad Lib:\")\n",
        "    print(filled_story)\n",
        "\n",
        "    # Option to save the story\n",
        "    save_choice = input(\"Would you like to save this story? (yes/no): \").lower()\n",
        "    if save_choice == 'yes':\n",
        "        with open('mad_libs_story.txt', 'w') as file:\n",
        "            file.write(filled_story)\n",
        "        print(\"Story saved successfully!\")\n",
        "\n",
        "# Run the Mad Libs function\n",
        "mad_libs()\n"
      ],
      "metadata": {
        "colab": {
          "base_uri": "https://localhost:8080/"
        },
        "id": "0xb2h_rFk-bF",
        "outputId": "b3b594fb-771c-4fdc-d4e9-25a41db81b41"
      },
      "execution_count": null,
      "outputs": [
        {
          "output_type": "stream",
          "name": "stdout",
          "text": [
            "Choose a story template:\n",
            "1: Once upon a time, there was a(n) {noun} who loved to {verb}. Every day, they would {adjective} go on adventures.\n",
            "2: In a faraway land, a {adjective} {noun} embarked on a {verb} journey full of {adjective} surprises.\n",
            "3: The brave knight {verb} through the {adjective} forest to save the {noun} from the dragon.\n",
            "Enter the number of your choice: 2\n",
            "Enter a noun: car\n",
            "Enter a verb: drive\n",
            "Enter a adjective: fast\n",
            "\n",
            "Here’s your completed Mad Lib:\n",
            "In a faraway land, a fast car embarked on a drive journey full of fast surprises.\n",
            "Would you like to save this story? (yes/no): yes\n",
            "Story saved successfully!\n"
          ]
        }
      ]
    }
  ]
}