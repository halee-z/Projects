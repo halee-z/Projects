{
  "nbformat": 4,
  "nbformat_minor": 0,
  "metadata": {
    "colab": {
      "provenance": []
    },
    "kernelspec": {
      "name": "python3",
      "display_name": "Python 3"
    },
    "language_info": {
      "name": "python"
    }
  },
  "cells": [
    {
      "cell_type": "markdown",
      "source": [
        "project 02"
      ],
      "metadata": {
        "id": "nWM0JCuvodiT"
      }
    },
    {
      "cell_type": "markdown",
      "source": [
        "***guess the number game (computer)***"
      ],
      "metadata": {
        "id": "ijt6B57fnZuL"
      }
    },
    {
      "cell_type": "code",
      "execution_count": null,
      "metadata": {
        "colab": {
          "base_uri": "https://localhost:8080/"
        },
        "id": "es7YuKUWnY8n",
        "outputId": "7e506744-dede-4d96-92a9-1f8e261655f3"
      },
      "outputs": [
        {
          "output_type": "stream",
          "name": "stdout",
          "text": [
            "Guess the number between 1 and 10!\n",
            "Attempt 1/3: Your guess? 8\n",
            "Congratulations! You guessed it in 1 attempts.\n"
          ]
        }
      ],
      "source": [
        "import random\n",
        "\n",
        "def guess_the_number():\n",
        "    print(\"Guess the number between 1 and 10!\")\n",
        "    number = random.randint(1, 10)\n",
        "    attempts = 3  # Maximum number of attempts\n",
        "\n",
        "    for attempt in range(1, attempts + 1):\n",
        "        try:\n",
        "            guess = int(input(f\"Attempt {attempt}/{attempts}: Your guess? \"))\n",
        "            if guess < number:\n",
        "                print(\"Too low!\")\n",
        "            elif guess > number:\n",
        "                print(\"Too high!\")\n",
        "            else:\n",
        "                print(f\"Congratulations! You guessed it in {attempt} attempts.\")\n",
        "                return\n",
        "        except ValueError:\n",
        "            print(\"Please enter a valid number.\")\n",
        "\n",
        "    print(f\"Sorry, you've used all attempts. The number was {number}.\")\n",
        "\n",
        "guess_the_number()\n"
      ]
    }
  ]
}