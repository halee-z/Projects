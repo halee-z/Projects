{
  "nbformat": 4,
  "nbformat_minor": 0,
  "metadata": {
    "colab": {
      "provenance": []
    },
    "kernelspec": {
      "name": "python3",
      "display_name": "Python 3"
    },
    "language_info": {
      "name": "python"
    }
  },
  "cells": [
    {
      "cell_type": "markdown",
      "source": [
        "project 6\n"
      ],
      "metadata": {
        "id": "xY89-n23vgCU"
      }
    },
    {
      "cell_type": "markdown",
      "source": [
        "***Countdown Timer Python Project***"
      ],
      "metadata": {
        "id": "kV7dS5iQvmdP"
      }
    },
    {
      "cell_type": "code",
      "execution_count": null,
      "metadata": {
        "colab": {
          "base_uri": "https://localhost:8080/"
        },
        "id": "JZC6JJT_tL_0",
        "outputId": "2ddd6431-a8bd-4111-c07d-9823f3ce0cc3"
      },
      "outputs": [
        {
          "output_type": "stream",
          "name": "stdout",
          "text": [
            "Enter the countdown time in seconds: 3\n",
            "Time's up!\n"
          ]
        }
      ],
      "source": [
        "import time\n",
        "\n",
        "def countdown_timer(seconds):\n",
        "    while seconds > 0:\n",
        "        # Convert seconds to minutes and seconds\n",
        "        mins, secs = divmod(seconds, 60)\n",
        "        timer = f\"{mins:02d}:{secs:02d}\"  # Format as MM:SS\n",
        "        print(timer, end=\"\\r\")  # Print on the same line\n",
        "        time.sleep(2)  # Wait for 1 second\n",
        "        seconds -= 2\n",
        "\n",
        "    print(\"Time's up!\")  # Notify the user when the timer ends\n",
        "\n",
        "# Input from the user\n",
        "try:\n",
        "    total_seconds = int(input(\"Enter the countdown time in seconds: \"))\n",
        "    countdown_timer(total_seconds)\n",
        "except ValueError:\n",
        "    print(\"Please enter a valid number.\")\n"
      ]
    }
  ]
}