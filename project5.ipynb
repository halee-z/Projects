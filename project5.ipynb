{
  "nbformat": 4,
  "nbformat_minor": 0,
  "metadata": {
    "colab": {
      "provenance": []
    },
    "kernelspec": {
      "name": "python3",
      "display_name": "Python 3"
    },
    "language_info": {
      "name": "python"
    }
  },
  "cells": [
    {
      "cell_type": "markdown",
      "source": [
        "project 5"
      ],
      "metadata": {
        "id": "Jl2hMZSCsS_-"
      }
    },
    {
      "cell_type": "markdown",
      "source": [
        "***Hangman Python Project***"
      ],
      "metadata": {
        "id": "rY-oTPOxseWn"
      }
    },
    {
      "cell_type": "code",
      "execution_count": null,
      "metadata": {
        "colab": {
          "base_uri": "https://localhost:8080/"
        },
        "id": "1UgPeK9FsRsy",
        "outputId": "6232a1ee-b225-4b35-f622-1e33c9d918f9"
      },
      "outputs": [
        {
          "output_type": "stream",
          "name": "stdout",
          "text": [
            "Welcome to Hangman!\n",
            "You have to guess the word, one letter at a time.\n",
            "The word has 9 letters: _ _ _ _ _ _ _ _ _\n",
            "You have 6 incorrect guesses allowed.\n",
            "\n",
            "Guess a letter: a\n",
            "Wrong guess! 'a' is not in the word.\n",
            "Lives remaining: 5\n",
            "\n",
            "Current word: _ _ _ _ _ _ _ _ _\n",
            "Guess a letter: p\n",
            "Good job! 'p' is in the word.\n",
            "\n",
            "Current word: _ _ _ _ _ _ p _ _\n",
            "Guess a letter: d\n",
            "Good job! 'd' is in the word.\n",
            "\n",
            "Current word: d _ _ _ _ _ p _ _\n",
            "Guess a letter: e\n",
            "Good job! 'e' is in the word.\n",
            "\n",
            "Current word: d e _ e _ _ p e _\n",
            "Guess a letter: v\n",
            "Good job! 'v' is in the word.\n",
            "\n",
            "Current word: d e v e _ _ p e _\n",
            "Guess a letter: l\n",
            "Good job! 'l' is in the word.\n",
            "\n",
            "Current word: d e v e l _ p e _\n",
            "Guess a letter: o\n",
            "Good job! 'o' is in the word.\n",
            "\n",
            "Current word: d e v e l o p e _\n",
            "Guess a letter: r\n",
            "Good job! 'r' is in the word.\n",
            "\n",
            "Current word: d e v e l o p e r\n",
            "\n",
            "Congratulations! You guessed the word: developer\n"
          ]
        }
      ],
      "source": [
        "import random\n",
        "\n",
        "def hangman():\n",
        "    # List of words to guess\n",
        "    words = [\"python\", \"hangman\", \"programming\", \"challenge\", \"developer\"]\n",
        "    word = random.choice(words)  # Randomly pick a word\n",
        "    guessed_word = [\"_\"] * len(word)  # Placeholder for guessed word\n",
        "    attempts = 3  # Number of lives\n",
        "    guessed_letters = set()  # Store guessed letters\n",
        "\n",
        "    print(\"Welcome to Hangman!\")\n",
        "    print(\"You have to guess the word, one letter at a time.\")\n",
        "    print(f\"The word has {len(word)} letters: {' '.join(guessed_word)}\")\n",
        "    print(f\"You have {attempts} incorrect guesses allowed.\\n\")\n",
        "\n",
        "    while attempts > 0 and \"_\" in guessed_word:\n",
        "        guess = input(\"Guess a letter: \").lower()\n",
        "\n",
        "        # Validate input\n",
        "        if len(guess) != 1 or not guess.isalpha():\n",
        "            print(\"Invalid input. Please guess a single letter.\\n\")\n",
        "            continue\n",
        "\n",
        "        # Check if letter was already guessed\n",
        "        if guess in guessed_letters:\n",
        "            print(f\"You've already guessed '{guess}'. Try again.\\n\")\n",
        "            continue\n",
        "\n",
        "        guessed_letters.add(guess)\n",
        "\n",
        "        if guess in word:\n",
        "            print(f\"Good job! '{guess}' is in the word.\\n\")\n",
        "            for i, letter in enumerate(word):\n",
        "                if letter == guess:\n",
        "                    guessed_word[i] = guess\n",
        "        else:\n",
        "            attempts -= 1\n",
        "            print(f\"Wrong guess! '{guess}' is not in the word.\")\n",
        "            print(f\"Lives remaining: {attempts}\\n\")\n",
        "\n",
        "        print(\"Current word: \" + \" \".join(guessed_word))\n",
        "\n",
        "    # Game Over\n",
        "    if \"_\" not in guessed_word:\n",
        "        print(\"\\nCongratulations! You guessed the word:\", word)\n",
        "    else:\n",
        "        print(\"\\nGame Over! The word was:\", word)\n",
        "\n",
        "# Run the game\n",
        "hangman()\n"
      ]
    }
  ]
}