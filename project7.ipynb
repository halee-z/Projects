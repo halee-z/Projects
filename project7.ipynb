{
  "nbformat": 4,
  "nbformat_minor": 0,
  "metadata": {
    "colab": {
      "provenance": []
    },
    "kernelspec": {
      "name": "python3",
      "display_name": "Python 3"
    },
    "language_info": {
      "name": "python"
    }
  },
  "cells": [
    {
      "cell_type": "markdown",
      "source": [
        "project 7"
      ],
      "metadata": {
        "id": "LxRMV6LW1aCb"
      }
    },
    {
      "cell_type": "markdown",
      "source": [
        "***Password Generator Python Project***"
      ],
      "metadata": {
        "id": "Qal4G-dA1dhD"
      }
    },
    {
      "cell_type": "code",
      "source": [
        "import random\n",
        "import string\n",
        "\n",
        "def generate_password(length):\n",
        "    # Define the character sets\n",
        "    characters = string.ascii_letters + string.digits + string.punctuation\n",
        "\n",
        "    # Generate a random password\n",
        "    password = ''.join(random.choice(characters) for _ in range(length))\n",
        "\n",
        "    return password\n",
        "\n",
        "# Input from the user\n",
        "try:\n",
        "    password_length = int(input(\"Enter the desired password length: \"))\n",
        "    print(f\"Generated Password: {generate_password(password_length)}\")\n",
        "except ValueError:\n",
        "    print(\"Please enter a valid number.\")\n"
      ],
      "metadata": {
        "colab": {
          "base_uri": "https://localhost:8080/"
        },
        "id": "pSXIbEhJ-2mc",
        "outputId": "26688c7e-9b55-4a8d-8d87-05b5753e5ebe"
      },
      "execution_count": null,
      "outputs": [
        {
          "output_type": "stream",
          "name": "stdout",
          "text": [
            "Enter the desired password length: 10\n",
            "Generated Password: '{LUVf{iU_\n"
          ]
        }
      ]
    }
  ]
}